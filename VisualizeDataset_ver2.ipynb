{
 "cells": [
  {
   "cell_type": "code",
   "execution_count": 1,
   "metadata": {
    "ExecuteTime": {
     "end_time": "2021-02-15T08:14:15.158658Z",
     "start_time": "2021-02-15T08:14:13.875421Z"
    }
   },
   "outputs": [],
   "source": [
    "from xml.etree.ElementTree import parse\n",
    "from matplotlib import pyplot as plt\n",
    "import makeGIF\n",
    "from glob import glob\n",
    "import numpy as np\n",
    "import json\n",
    "import os\n",
    "\n",
    "\n",
    "file_root = \"dataset/INTERACTION-Dataset-DR-v1_1/maps/\"\n",
    "file_list = os.listdir(file_root)\n",
    "s1 = set()\n",
    "s1_sub =set()\n",
    "way_dicts = []\n",
    "\n",
    "for file in file_list:\n",
    "#     file = file_list[file_num]\n",
    "    if 'xy' in file:\n",
    "        tree = parse(file_root + file)\n",
    "        root = tree.getroot()\n",
    "        node = root.findall('node')\n",
    "        way = root.findall('way')\n",
    "        relation = root.findall('relation')\n",
    "        node_arr = []\n",
    "        for n in node:\n",
    "            x = float(n.get('x'))\n",
    "            y = float(n.get('y'))\n",
    "            node_arr.append([x,y])\n",
    "        way_dict = []\n",
    "        for w in way:\n",
    "            t_dict = {}\n",
    "            nds = w.findall(\"nd\")\n",
    "            xy = []\n",
    "            for nd in nds:\n",
    "                num = int(nd.get('ref'))-1000\n",
    "                xy.append(node_arr[num])\n",
    "            t_dict['node'] = xy\n",
    "            t_dict['tag'] = {\"type\" : None, \"subtype\" : None}\n",
    "            for t in w.findall(\"tag\"):\n",
    "                t_dict['tag'][t.get('k')] = t.get('v')\n",
    "        #         tag_dict = {\"type\" : None, \"subtype\" : None}\n",
    "        #         tag_dict[t.get('k')] = t.get('v')\n",
    "        #         t_dict['tag'].append(tag_dict)\n",
    "            way_dict.append(t_dict)\n",
    "#         draw(way_dict)\n",
    "\n",
    "        for w in way_dict:\n",
    "            s1.add(w['tag']['type'])\n",
    "            s1_sub.add(w['tag']['subtype'])\n",
    "        #         s1.add(i['v'])\n",
    "        way_dicts.append([way_dict, file])"
   ]
  },
  {
   "cell_type": "code",
   "execution_count": 2,
   "metadata": {
    "ExecuteTime": {
     "end_time": "2021-02-15T08:14:16.210664Z",
     "start_time": "2021-02-15T08:14:16.184112Z"
    }
   },
   "outputs": [],
   "source": [
    "def draw_object_data(data,map_xy, GIF_module,time = None):\n",
    "    agent_xy = np.array(data[\"agent\"]['xy'])\n",
    "    agent_time = np.array(data[\"agent\"][\"time\"])\n",
    "    social_xy = np.array([np.array(d[\"xy\"]) for d in data[\"social\"]])\n",
    "    social_time = np.array([np.array(d[\"time\"]) for d in data[\"social\"]])\n",
    "    social_TE = []\n",
    "    flag = True\n",
    "\n",
    "    social_TE = np.array(data[\"TE\"])\n",
    "    \n",
    "    social_TE -= min(min(social_TE),0)\n",
    "    social_TE /= max(0.0001, max(social_TE))\n",
    "        \n",
    "    \n",
    "    if time == None:\n",
    "        plt.plot(agent_xy[:,0],agent_xy[:,1], color = \"blue\", zorder = 3)\n",
    "        plt.scatter(agent_xy[:,0][-1],agent_xy[:,1][-1], color = \"blue\", zorder = 3)\n",
    "\n",
    "        for i, xy in enumerate(social_xy):\n",
    "            print(len(xy))\n",
    "            start = np.where(social_time[i] >= agent_time[0])[0]\n",
    "            end = np.where(social_time[i] <= agent_time[-1])[0]\n",
    "            attend_time =  np.intersect1d(start, end)\n",
    "            if len(attend_time) > 0:\n",
    "                start = attend_time[0]\n",
    "                end = attend_time[-1]\n",
    "                print(\"st: \",start,end)\n",
    "                print(social_time[i][0], social_time[i][-1])\n",
    "                plt.plot(xy[:,0][:],xy[:,1][:], color = \"black\")\n",
    "                plt.scatter(xy[:,0][-1],xy[:,1][-1], color = \"black\")\n",
    "                plt.scatter(xy[:,0][-1],xy[:,1][-1], color = \"red\", alpha = social_TE[i], linewidths = 3, zorder = 4)\n",
    "            else:\n",
    "                print(\"NOT INCLUDE : \", social_time[i][0],social_time[i][-1])\n",
    "\n",
    "    else:\n",
    "        \n",
    "        GIF_module.add_plot(map_xy, agent_xy,agent_time,social_xy,social_time, social_TE,time)\n",
    "                \n",
    "        \n",
    "    plt.show()\n"
   ]
  },
  {
   "cell_type": "code",
   "execution_count": 3,
   "metadata": {
    "ExecuteTime": {
     "end_time": "2021-02-15T08:14:22.185455Z",
     "start_time": "2021-02-15T08:14:17.512061Z"
    }
   },
   "outputs": [
    {
     "name": "stdout",
     "output_type": "stream",
     "text": [
      "100 11300\n"
     ]
    },
    {
     "ename": "IndexError",
     "evalue": "index 115 is out of bounds for axis 0 with size 113",
     "output_type": "error",
     "traceback": [
      "\u001b[0;31m---------------------------------------------------------------------------\u001b[0m",
      "\u001b[0;31mIndexError\u001b[0m                                Traceback (most recent call last)",
      "\u001b[0;32m<ipython-input-3-449ab56a29e1>\u001b[0m in \u001b[0;36m<module>\u001b[0;34m\u001b[0m\n\u001b[1;32m     24\u001b[0m \u001b[0mGIF_module\u001b[0m \u001b[0;34m=\u001b[0m \u001b[0mmakeGIF\u001b[0m\u001b[0;34m.\u001b[0m\u001b[0mmakeGIF\u001b[0m\u001b[0;34m(\u001b[0m\u001b[0;34m\"OBJECT\"\u001b[0m\u001b[0;34m,\u001b[0m \u001b[0;34m[\u001b[0m\u001b[0;36m0\u001b[0m\u001b[0;34m,\u001b[0m\u001b[0;36m100\u001b[0m\u001b[0;34m,\u001b[0m\u001b[0;36m0\u001b[0m\u001b[0;34m,\u001b[0m\u001b[0;36m70\u001b[0m\u001b[0;34m]\u001b[0m\u001b[0;34m)\u001b[0m\u001b[0;34m\u001b[0m\u001b[0;34m\u001b[0m\u001b[0m\n\u001b[1;32m     25\u001b[0m \u001b[0;32mfor\u001b[0m \u001b[0mi\u001b[0m \u001b[0;32min\u001b[0m \u001b[0mrange\u001b[0m\u001b[0;34m(\u001b[0m\u001b[0;36m10\u001b[0m\u001b[0;34m,\u001b[0m\u001b[0;36m220\u001b[0m\u001b[0;34m,\u001b[0m \u001b[0;36m5\u001b[0m\u001b[0;34m)\u001b[0m\u001b[0;34m:\u001b[0m\u001b[0;34m\u001b[0m\u001b[0;34m\u001b[0m\u001b[0m\n\u001b[0;32m---> 26\u001b[0;31m     \u001b[0mdraw_object_data\u001b[0m\u001b[0;34m(\u001b[0m\u001b[0mdata_object\u001b[0m\u001b[0;34m,\u001b[0m\u001b[0mway_dicts\u001b[0m\u001b[0;34m,\u001b[0m\u001b[0mGIF_module\u001b[0m\u001b[0;34m,\u001b[0m \u001b[0mi\u001b[0m\u001b[0;34m)\u001b[0m\u001b[0;34m\u001b[0m\u001b[0;34m\u001b[0m\u001b[0m\n\u001b[0m\u001b[1;32m     27\u001b[0m \u001b[0mGIF_module\u001b[0m\u001b[0;34m.\u001b[0m\u001b[0mmake_gif\u001b[0m\u001b[0;34m(\u001b[0m\u001b[0;34m\"test0001\"\u001b[0m\u001b[0;34m)\u001b[0m\u001b[0;34m\u001b[0m\u001b[0;34m\u001b[0m\u001b[0m\n",
      "\u001b[0;32m<ipython-input-2-35014a65873a>\u001b[0m in \u001b[0;36mdraw_object_data\u001b[0;34m(data, map_xy, GIF_module, time)\u001b[0m\n\u001b[1;32m     35\u001b[0m     \u001b[0;32melse\u001b[0m\u001b[0;34m:\u001b[0m\u001b[0;34m\u001b[0m\u001b[0;34m\u001b[0m\u001b[0m\n\u001b[1;32m     36\u001b[0m \u001b[0;34m\u001b[0m\u001b[0m\n\u001b[0;32m---> 37\u001b[0;31m         \u001b[0mGIF_module\u001b[0m\u001b[0;34m.\u001b[0m\u001b[0madd_plot\u001b[0m\u001b[0;34m(\u001b[0m\u001b[0mmap_xy\u001b[0m\u001b[0;34m,\u001b[0m \u001b[0magent_xy\u001b[0m\u001b[0;34m,\u001b[0m\u001b[0magent_time\u001b[0m\u001b[0;34m,\u001b[0m\u001b[0msocial_xy\u001b[0m\u001b[0;34m,\u001b[0m\u001b[0msocial_time\u001b[0m\u001b[0;34m,\u001b[0m \u001b[0msocial_TE\u001b[0m\u001b[0;34m,\u001b[0m\u001b[0mtime\u001b[0m\u001b[0;34m)\u001b[0m\u001b[0;34m\u001b[0m\u001b[0;34m\u001b[0m\u001b[0m\n\u001b[0m\u001b[1;32m     38\u001b[0m \u001b[0;34m\u001b[0m\u001b[0m\n\u001b[1;32m     39\u001b[0m \u001b[0;34m\u001b[0m\u001b[0m\n",
      "\u001b[0;32m/mnt/srv/home/dlpc.447/MotionPrediction/TE_InteractionDataset/makeGIF.py\u001b[0m in \u001b[0;36madd_plot\u001b[0;34m(self, map_xy, agent_xy, agent_time, social_xy, social_time, social_TE, time)\u001b[0m\n\u001b[1;32m     27\u001b[0m \u001b[0;34m\u001b[0m\u001b[0m\n\u001b[1;32m     28\u001b[0m         \u001b[0mplt\u001b[0m\u001b[0;34m.\u001b[0m\u001b[0mplot\u001b[0m\u001b[0;34m(\u001b[0m\u001b[0magent_xy\u001b[0m\u001b[0;34m[\u001b[0m\u001b[0;34m:\u001b[0m\u001b[0;34m,\u001b[0m\u001b[0;36m0\u001b[0m\u001b[0;34m]\u001b[0m\u001b[0;34m[\u001b[0m\u001b[0;34m:\u001b[0m\u001b[0mtime\u001b[0m\u001b[0;34m+\u001b[0m\u001b[0;36m1\u001b[0m\u001b[0;34m]\u001b[0m\u001b[0;34m,\u001b[0m\u001b[0magent_xy\u001b[0m\u001b[0;34m[\u001b[0m\u001b[0;34m:\u001b[0m\u001b[0;34m,\u001b[0m\u001b[0;36m1\u001b[0m\u001b[0;34m]\u001b[0m\u001b[0;34m[\u001b[0m\u001b[0;34m:\u001b[0m\u001b[0mtime\u001b[0m\u001b[0;34m+\u001b[0m\u001b[0;36m1\u001b[0m\u001b[0;34m]\u001b[0m\u001b[0;34m,\u001b[0m \u001b[0mcolor\u001b[0m \u001b[0;34m=\u001b[0m \u001b[0;34m\"blue\"\u001b[0m\u001b[0;34m,\u001b[0m \u001b[0mzorder\u001b[0m \u001b[0;34m=\u001b[0m \u001b[0;36m3\u001b[0m\u001b[0;34m)\u001b[0m\u001b[0;34m\u001b[0m\u001b[0;34m\u001b[0m\u001b[0m\n\u001b[0;32m---> 29\u001b[0;31m         \u001b[0mplt\u001b[0m\u001b[0;34m.\u001b[0m\u001b[0mscatter\u001b[0m\u001b[0;34m(\u001b[0m\u001b[0magent_xy\u001b[0m\u001b[0;34m[\u001b[0m\u001b[0;34m:\u001b[0m\u001b[0;34m,\u001b[0m\u001b[0;36m0\u001b[0m\u001b[0;34m]\u001b[0m\u001b[0;34m[\u001b[0m\u001b[0mtime\u001b[0m\u001b[0;34m]\u001b[0m\u001b[0;34m,\u001b[0m\u001b[0magent_xy\u001b[0m\u001b[0;34m[\u001b[0m\u001b[0;34m:\u001b[0m\u001b[0;34m,\u001b[0m\u001b[0;36m1\u001b[0m\u001b[0;34m]\u001b[0m\u001b[0;34m[\u001b[0m\u001b[0mtime\u001b[0m\u001b[0;34m]\u001b[0m\u001b[0;34m,\u001b[0m \u001b[0mcolor\u001b[0m \u001b[0;34m=\u001b[0m \u001b[0;34m\"blue\"\u001b[0m\u001b[0;34m,\u001b[0m \u001b[0mzorder\u001b[0m \u001b[0;34m=\u001b[0m \u001b[0;36m3\u001b[0m\u001b[0;34m)\u001b[0m\u001b[0;34m\u001b[0m\u001b[0;34m\u001b[0m\u001b[0m\n\u001b[0m\u001b[1;32m     30\u001b[0m         \u001b[0mend\u001b[0m \u001b[0;34m=\u001b[0m \u001b[0magent_time\u001b[0m\u001b[0;34m[\u001b[0m\u001b[0mtime\u001b[0m\u001b[0;34m]\u001b[0m  \u001b[0;31m#몇 frame에서 끝나는지 정함\u001b[0m\u001b[0;34m\u001b[0m\u001b[0;34m\u001b[0m\u001b[0m\n\u001b[1;32m     31\u001b[0m \u001b[0;34m\u001b[0m\u001b[0m\n",
      "\u001b[0;31mIndexError\u001b[0m: index 115 is out of bounds for axis 0 with size 113"
     ]
    },
    {
     "data": {
      "image/png": "[encoded data removed]",
      "text/plain": [
       "<Figure size 360x360 with 1 Axes>"
      ]
     },
     "metadata": {
      "needs_background": "light"
     },
     "output_type": "display_data"
    }
   ],
   "source": [
    "\n",
    "map_idx = 0  # interaction dataset의 map중 무슨 map으로 할 것인지\n",
    "file_idx = 0 # mpa으로 만들어진 파일중 몇번째 파일을 사용할 것인지\n",
    "map_name = way_dicts[map_idx][1].split(\".\")[0]\n",
    "\n",
    "\n",
    "files_TE_data_object = glob(\"dataset/INTERACTION-Dataset-DR-v1_1/recorded_trackfiles/\" + map_name + \"/TE_by_object_ver4/*\")\n",
    "files_TE_data_scene = glob(\"TE_by_scene/\" + map_name + \"/*\")\n",
    "\n",
    "with open(files_TE_data_object[file_idx]) as data:\n",
    "    data_object = json.load(data)\n",
    "\n",
    "scene_idx = int(files_TE_data_object[file_idx].split(\"/\")[-1].split(\"_\")[2])\n",
    "with open(files_TE_data_scene[scene_idx]) as data:\n",
    "    data_scene = json.load(data)    \n",
    "\n",
    "\n",
    "agent_id = data_object[\"agent\"][\"id\"]\n",
    "social_ids = [A[\"id\"] for A in data_object[\"social\"]]\n",
    "for j, w in enumerate(way_dicts[0][0]):\n",
    "    map_xy = np.array(w['node'])\n",
    "#     plt.plot(xy[:,0]-950,xy[:,1]-950, color='gray',linewidth=1)\n",
    "print(data_object[\"agent\"][\"time\"][0], data_object[\"agent\"][\"time\"][-1])\n",
    "\n",
    "GIF_module = makeGIF.makeGIF(\"OBJECT\", [0,100,0,70])\n",
    "for i in range(10,220, 5):\n",
    "    draw_object_data(data_object,way_dicts,GIF_module, i)\n",
    "GIF_module.make_gif(\"test0001\")"
   ]
  },
  {
   "cell_type": "code",
   "execution_count": 4,
   "metadata": {
    "ExecuteTime": {
     "end_time": "2021-02-15T08:17:22.238534Z",
     "start_time": "2021-02-15T08:14:46.460448Z"
    }
   },
   "outputs": [
    {
     "name": "stdout",
     "output_type": "stream",
     "text": [
      "100 11300\n",
      "0\n",
      "2700 25400\n",
      "1\n",
      "6400 31200\n",
      "2\n",
      "12500 21500\n",
      "3\n",
      "19500 41300\n",
      "4\n",
      "20000 32500\n",
      "5\n",
      "22100 38600\n",
      "6\n",
      "24900 41900\n",
      "7\n",
      "26700 45000\n",
      "8\n",
      "27700 40600\n",
      "9\n",
      "29800 53400\n",
      "10\n",
      "30500 49100\n",
      "11\n",
      "37300 64800\n",
      "12\n",
      "41800 68600\n",
      "13\n",
      "46000 72500\n",
      "14\n",
      "46100 62600\n",
      "15\n"
     ]
    },
    {
     "ename": "IndexError",
     "evalue": "list index out of range",
     "output_type": "error",
     "traceback": [
      "\u001b[0;31m---------------------------------------------------------------------------\u001b[0m",
      "\u001b[0;31mIndexError\u001b[0m                                Traceback (most recent call last)",
      "\u001b[0;32m<ipython-input-4-d88a8081ae5c>\u001b[0m in \u001b[0;36m<module>\u001b[0;34m\u001b[0m\n\u001b[1;32m      8\u001b[0m     \u001b[0mfiles_TE_data_scene\u001b[0m \u001b[0;34m=\u001b[0m \u001b[0mglob\u001b[0m\u001b[0;34m(\u001b[0m\u001b[0;34m\"TE_by_scene/\"\u001b[0m \u001b[0;34m+\u001b[0m \u001b[0mmap_name\u001b[0m \u001b[0;34m+\u001b[0m \u001b[0;34m\"/*\"\u001b[0m\u001b[0;34m)\u001b[0m\u001b[0;34m\u001b[0m\u001b[0;34m\u001b[0m\u001b[0m\n\u001b[1;32m      9\u001b[0m \u001b[0;34m\u001b[0m\u001b[0m\n\u001b[0;32m---> 10\u001b[0;31m     \u001b[0;32mwith\u001b[0m \u001b[0mopen\u001b[0m\u001b[0;34m(\u001b[0m\u001b[0mfiles_TE_data_object\u001b[0m\u001b[0;34m[\u001b[0m\u001b[0mfile_idx\u001b[0m\u001b[0;34m]\u001b[0m\u001b[0;34m)\u001b[0m \u001b[0;32mas\u001b[0m \u001b[0mdata\u001b[0m\u001b[0;34m:\u001b[0m\u001b[0;34m\u001b[0m\u001b[0;34m\u001b[0m\u001b[0m\n\u001b[0m\u001b[1;32m     11\u001b[0m         \u001b[0mdata_object\u001b[0m \u001b[0;34m=\u001b[0m \u001b[0mjson\u001b[0m\u001b[0;34m.\u001b[0m\u001b[0mload\u001b[0m\u001b[0;34m(\u001b[0m\u001b[0mdata\u001b[0m\u001b[0;34m)\u001b[0m\u001b[0;34m\u001b[0m\u001b[0;34m\u001b[0m\u001b[0m\n\u001b[1;32m     12\u001b[0m \u001b[0;34m\u001b[0m\u001b[0m\n",
      "\u001b[0;31mIndexError\u001b[0m: list index out of range"
     ]
    }
   ],
   "source": [
    "\n",
    "map_idx = 0  # interaction dataset의 map중 무슨 map으로 할 것인지\n",
    "\n",
    "for file_idx in range(0, 30):\n",
    "    map_name = way_dicts[map_idx][1].split(\".\")[0]\n",
    "\n",
    "\n",
    "    files_TE_data_object = glob(\"dataset/INTERACTION-Dataset-DR-v1_1/recorded_trackfiles/\" + map_name + \"/TE_by_object_ver4/*\")\n",
    "    files_TE_data_scene = glob(\"TE_by_scene/\" + map_name + \"/*\")\n",
    "\n",
    "    with open(files_TE_data_object[file_idx]) as data:\n",
    "        data_object = json.load(data)\n",
    "\n",
    "    for j, w in enumerate(way_dicts[0][0]):\n",
    "        map_xy = np.array(w['node'])\n",
    "    #     plt.plot(xy[:,0]-950,xy[:,1]-950, color='gray',linewidth=1)\n",
    "    print(data_object[\"agent\"][\"time\"][0], data_object[\"agent\"][\"time\"][-1])\n",
    "\n",
    "    GIF_module = makeGIF.makeGIF(\"OBJECT\", [0,120,0,80])\n",
    "    for i in range(10,len(data_object[\"agent\"][\"xy\"]), 5):\n",
    "        draw_object_data(data_object,way_dicts,GIF_module, i)\n",
    "    GIF_module.make_gif(\"results/\" + str(file_idx))\n",
    "    print(str(file_idx))"
   ]
  },
  {
   "cell_type": "code",
   "execution_count": null,
   "metadata": {
    "ExecuteTime": {
     "start_time": "2021-02-15T04:59:47.285Z"
    }
   },
   "outputs": [],
   "source": [
    "data_object[\"agent\"][\"time\"][-1]"
   ]
  },
  {
   "cell_type": "code",
   "execution_count": null,
   "metadata": {
    "ExecuteTime": {
     "start_time": "2021-02-15T04:59:47.286Z"
    }
   },
   "outputs": [],
   "source": [
    "\n",
    "map_idx = 0  # interaction dataset의 map중 무슨 map으로 할 것인지\n",
    "file_idx = 0 # mpa으로 만들어진 파일중 몇번째 파일을 사용할 것인지\n",
    "map_name = way_dicts[map_idx][1].split(\".\")[0]\n",
    "\n",
    "\n",
    "files_TE_data_object = glob(\"dataset/INTERACTION-Dataset-DR-v1_1/recorded_trackfiles/\" + map_name + \"/TE_by_object_ver4/*\")\n",
    "files_TE_data_scene = glob(\"TE_by_scene/\" + map_name + \"/*\")\n",
    "\n",
    "with open(files_TE_data_object[file_idx]) as data:\n",
    "    data_object = json.load(data)\n",
    "\n",
    "\n",
    "\n",
    "\n",
    "\n",
    "GIF_module = makeGIF.makeGIF(\"OBJECT\", [0,100,0,70])\n",
    "for i in range(10,220, 5):\n",
    "    for j, w in enumerate(way_dicts[0][0]):\n",
    "        map_xy = np.array(w['node'])\n",
    "#         plt.plot(xy[:,0]-950,xy[:,1]-950, color='gray',linewidth=1)\n",
    "\n",
    "    \n",
    "    draw_object_data(data_object,map_xy ,GIF_module, i)\n",
    "GIF_module.make_gif(\"test6\")"
   ]
  },
  {
   "cell_type": "code",
   "execution_count": null,
   "metadata": {
    "ExecuteTime": {
     "start_time": "2021-02-15T04:59:47.287Z"
    }
   },
   "outputs": [],
   "source": [
    "GIF_module.make_gif(\"test\")"
   ]
  },
  {
   "cell_type": "code",
   "execution_count": 11,
   "metadata": {
    "ExecuteTime": {
     "end_time": "2021-02-15T07:47:07.029797Z",
     "start_time": "2021-02-15T07:47:06.892411Z"
    }
   },
   "outputs": [
    {
     "name": "stdout",
     "output_type": "stream",
     "text": [
      "TE_by_scene\t\t     computete_interaction.py  requiremnets.txt\r\n",
      "TE_by_scene.tar\t\t     dataset\t\t       results\r\n",
      "VisualizeDataset.ipynb\t     infodynamics.jar\t       sample.xml\r\n",
      "VisualizeDataset_ver2.ipynb  main.py\t\t       utill.py\r\n",
      "__pycache__\t\t     main_split.py\t       새노트북.ipynb\r\n",
      "computeTE_by_object.py\t     makeGIF.py\r\n"
     ]
    }
   ],
   "source": [
    "!ls"
   ]
  },
  {
   "cell_type": "code",
   "execution_count": 12,
   "metadata": {
    "ExecuteTime": {
     "end_time": "2021-02-15T07:47:26.581894Z",
     "start_time": "2021-02-15T07:47:26.441897Z"
    },
    "scrolled": false
   },
   "outputs": [
    {
     "name": "stdout",
     "output_type": "stream",
     "text": [
      "import os\r\n",
      "from sys import platform\r\n",
      "import glob\r\n",
      "import numpy as np\r\n",
      "# from src.utils import *\r\n",
      "import pickle\r\n",
      "import matplotlib.pyplot as plt\r\n",
      "import pandas as pd\r\n",
      "import csv\r\n",
      "from tqdm import tqdm\r\n",
      "import random\r\n",
      "import math\r\n",
      "import utill\r\n",
      "import json\r\n",
      "import copy\r\n",
      "\r\n",
      "# +\r\n",
      "visualize = False\r\n",
      "minimum_length = 5000\r\n",
      "TE = utill.calc_TE('6')\r\n",
      "\r\n",
      "repeat = 10\r\n",
      "length = 50 * 1000\r\n",
      "stride = 25 * 1000\r\n",
      "minimum_length = 7 * 1000\r\n",
      "minimum_time_thresh_hold =  50*100\r\n",
      "# -\r\n",
      "\r\n",
      "paths = [\"dataset/INTERACTION-Dataset-DR-v1_1/recorded_trackfiles/DR_USA_Intersection_EP0/\",\r\n",
      "\"dataset/INTERACTION-Dataset-DR-v1_1/recorded_trackfiles/DR_USA_Intersection_EP1/\",\r\n",
      "\"dataset/INTERACTION-Dataset-DR-v1_1/recorded_trackfiles/DR_CHN_Merging_ZS/\",\r\n",
      "\"dataset/INTERACTION-Dataset-DR-v1_1/recorded_trackfiles/DR_CHN_Roundabout_LN/\",\r\n",
      "\"dataset/INTERACTION-Dataset-DR-v1_1/recorded_trackfiles/DR_DEU_Merging_MT/\",\r\n",
      "\"dataset/INTERACTION-Dataset-DR-v1_1/recorded_trackfiles/DR_DEU_Roundabout_OF/\",\r\n",
      "\"dataset/INTERACTION-Dataset-DR-v1_1/recorded_trackfiles/DR_USA_Intersection_GL/\",\r\n",
      "\"dataset/INTERACTION-Dataset-DR-v1_1/recorded_trackfiles/DR_USA_Intersection_MA/\",\r\n",
      "\"dataset/INTERACTION-Dataset-DR-v1_1/recorded_trackfiles/DR_USA_Roundabout_EP/\",\r\n",
      "\"dataset/INTERACTION-Dataset-DR-v1_1/recorded_trackfiles/DR_USA_Roundabout_FT/\",\r\n",
      "\"dataset/INTERACTION-Dataset-DR-v1_1/recorded_trackfiles/DR_USA_Roundabout_SR/\"]\r\n",
      "# \"dataset/INTERACTION-Dataset-TC-v1_0/recorded_trackfiles/TC_BGR_Intersection_VA/\"]\r\n",
      "paths.reverse()\r\n",
      "\r\n",
      "# +\r\n",
      "for path in paths: # file root\r\n",
      "    print(path)\r\n",
      "    config = {\r\n",
      "        'datapath': path,\r\n",
      "        'index': ['id', 'x', 'y'],\r\n",
      "        'savepath': path + \"/TE_by_object_ver4/\"\r\n",
      "    }\r\n",
      "    os.makedirs(config['savepath'], exist_ok=True)\r\n",
      "    files = sorted(glob.glob(path + \"vehicle*.csv\"), key = lambda f : int(f.split('/')[-1].split('.')[0].split('_')[-1]))\r\n",
      "    for f in tqdm(files): # select file\r\n",
      "        print(f)\r\n",
      "        scenario = f\r\n",
      "        scenario_name = scenario.split(\"/\")[-1].split(\".\")[0]\r\n",
      "        data = utill.preprocessing(scenario)\r\n",
      "        data_arr = sorted([data[\"agent\"][k] for k in data[\"agent\"].keys()], key = lambda a : a[\"time\"][0])\r\n",
      "        \r\n",
      "        agent_list = list(data[\"agent\"].keys())\r\n",
      "        for i in tqdm(range(len(data_arr[:-1]))):  # select actor\r\n",
      "            agent = data_arr[i]\r\n",
      "            save_file_name = config[\"savepath\"] + scenario_name + \"_\" + str(agent[\"id\"]) + \".json\"\r\n",
      "            if os.path.isfile(save_file_name):\r\n",
      "                continue\r\n",
      "            \r\n",
      "            write_dict = {}\r\n",
      "            write_dict[\"normalize_xy\"] = data[\"normalize_xy\"]\r\n",
      "            write_dict[\"agent\"] = {}\r\n",
      "            write_dict[\"social\"] = []\r\n",
      "            \r\n",
      "            write_dict[\"agent\"] = {}\r\n",
      "            write_dict[\"agent\"][\"xy\"] =agent[\"xy\"]\r\n",
      "            write_dict[\"agent\"][\"id\"] = agent[\"id\"]\r\n",
      "            write_dict[\"agent\"][\"type\"] = agent[\"type\"]\r\n",
      "            write_dict[\"agent\"][\"time\"] = agent[\"time\"]\r\n",
      "            write_dict[\"TE\"] = [0.0]\r\n",
      "            others_idx = i+1\r\n",
      "            others = data_arr[others_idx]\r\n",
      "            while(agent[\"time\"][-1] - others[\"time\"][0] > minimum_time_thresh_hold and others_idx < len(data_arr)):\r\n",
      "                \r\n",
      "                others = data_arr[others_idx]\r\n",
      "                start = others[\"time\"][0]\r\n",
      "                end = min(others[\"time\"][-1], agent[\"time\"][-1])\r\n",
      "\r\n",
      "                \r\n",
      "                if end - start >= minimum_time_thresh_hold:\r\n",
      "                    info = {}\r\n",
      "                    info[\"xy\"] = others[\"xy\"][:others[\"time\"].index(end) + 1]\r\n",
      "                    info[\"id\"] = others[\"id\"]\r\n",
      "                    info[\"type\"] = others[\"type\"]\r\n",
      "                    info[\"time\"] = others[\"time\"]\r\n",
      "\r\n",
      "                    trans_entropy = sum([max(TE.computeTE_a2b(info[\"xy\"],\r\n",
      "                                        agent[\"xy\"][agent[\"time\"].index(start): agent[\"time\"].index(end) + 1]), \r\n",
      "                                             0.0) for i in range(repeat)]\r\n",
      "                                       ) / repeat\r\n",
      "\r\n",
      "#                     trans_entropy = max(TE.computeTE_a2b(info[\"xy\"], agent[\"xy\"][agent[\"time\"].index(start): agent[\"time\"].index(end) + 1]), 0.0)\r\n",
      "\r\n",
      "                    write_dict[\"TE\"].append(trans_entropy)\r\n",
      "                    write_dict[\"social\"].append(info)\r\n",
      "                others_idx +=1\r\n",
      "\r\n",
      "            if len(write_dict[\"TE\"]) > 2:\r\n",
      "                with open(config[\"savepath\"] + scenario_name + \"_\" + str(agent[\"id\"]) + \".json\", \"w\") as json_data:\r\n",
      "                    json.dump(write_dict, json_data)\r\n",
      "\r\n",
      "\r\n",
      "# -\r\n",
      "\r\n",
      "\r\n"
     ]
    }
   ],
   "source": [
    "!cat computeTE_by_object.py"
   ]
  }
 ],
 "metadata": {
  "kernelspec": {
   "display_name": "Python 3",
   "language": "python",
   "name": "python3"
  },
  "language_info": {
   "codemirror_mode": {
    "name": "ipython",
    "version": 3
   },
   "file_extension": ".py",
   "mimetype": "text/x-python",
   "name": "python",
   "nbconvert_exporter": "python",
   "pygments_lexer": "ipython3",
   "version": "3.6.12"
  },
  "latex_envs": {
   "LaTeX_envs_menu_present": true,
   "autoclose": false,
   "autocomplete": true,
   "bibliofile": "biblio.bib",
   "cite_by": "apalike",
   "current_citInitial": 1,
   "eqLabelWithNumbers": true,
   "eqNumInitial": 1,
   "hotkeys": {
    "equation": "Ctrl-E",
    "itemize": "Ctrl-I"
   },
   "labels_anchors": false,
   "latex_user_defs": false,
   "report_style_numbering": false,
   "user_envs_cfg": false
  }
 },
 "nbformat": 4,
 "nbformat_minor": 4
}
